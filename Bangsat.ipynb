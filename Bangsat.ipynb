{
  "nbformat": 4,
  "nbformat_minor": 0,
  "metadata": {
    "colab": {
      "name": "Bangsat.ipynb",
      "provenance": [],
      "collapsed_sections": [],
      "mount_file_id": "1HT0UGnmxYuJ9qFPmpzvvofBX3yqd7SA_",
      "authorship_tag": "ABX9TyPz++nNc27cBHI9UkF53GzG",
      "include_colab_link": true
    },
    "kernelspec": {
      "name": "python3",
      "display_name": "Python 3"
    },
    "language_info": {
      "name": "python"
    },
    "accelerator": "GPU"
  },
  "cells": [
    {
      "cell_type": "markdown",
      "metadata": {
        "id": "view-in-github",
        "colab_type": "text"
      },
      "source": [
        "<a href=\"https://colab.research.google.com/github/mohripan/Kaggle-Training/blob/main/Bangsat.ipynb\" target=\"_parent\"><img src=\"https://colab.research.google.com/assets/colab-badge.svg\" alt=\"Open In Colab\"/></a>"
      ]
    },
    {
      "cell_type": "code",
      "metadata": {
        "id": "gie2Qxa9pMXV"
      },
      "source": [
        "import numpy as np\n",
        "import pandas as pd\n",
        "import matplotlib.pyplot as plt"
      ],
      "execution_count": 45,
      "outputs": []
    },
    {
      "cell_type": "code",
      "metadata": {
        "colab": {
          "base_uri": "https://localhost:8080/"
        },
        "id": "QGnxrpz5pzfr",
        "outputId": "7e3f6590-fb29-4d71-d966-5aa9d2794da4"
      },
      "source": [
        "!wget --no-check-certificate \\\n",
        "  https://dicodingacademy.blob.core.windows.net/picodiploma/ml_pemula_academy/rockpaperscissors.zip \\\n",
        "  -O /tmp/rockpaperscissors.zip"
      ],
      "execution_count": 46,
      "outputs": [
        {
          "output_type": "stream",
          "text": [
            "--2021-07-03 13:23:55--  https://dicodingacademy.blob.core.windows.net/picodiploma/ml_pemula_academy/rockpaperscissors.zip\n",
            "Resolving dicodingacademy.blob.core.windows.net (dicodingacademy.blob.core.windows.net)... 52.239.197.36\n",
            "Connecting to dicodingacademy.blob.core.windows.net (dicodingacademy.blob.core.windows.net)|52.239.197.36|:443... connected.\n",
            "HTTP request sent, awaiting response... 200 OK\n",
            "Length: 322873683 (308M) [application/zip]\n",
            "Saving to: ‘/tmp/rockpaperscissors.zip’\n",
            "\n",
            "/tmp/rockpapersciss 100%[===================>] 307.92M  5.78MB/s    in 51s     \n",
            "\n",
            "2021-07-03 13:24:47 (6.05 MB/s) - ‘/tmp/rockpaperscissors.zip’ saved [322873683/322873683]\n",
            "\n"
          ],
          "name": "stdout"
        }
      ]
    },
    {
      "cell_type": "code",
      "metadata": {
        "id": "4cyLG-atp4g4"
      },
      "source": [
        "import zipfile, os"
      ],
      "execution_count": 47,
      "outputs": []
    },
    {
      "cell_type": "code",
      "metadata": {
        "id": "nsR0xaVzqBw3"
      },
      "source": [
        "loc_zip = '/tmp/rockpaperscissors.zip'\n",
        "zip_ref = zipfile.ZipFile(loc_zip, 'r')\n",
        "zip_ref.extractall('/tmp')\n",
        "zip_ref.close()\n",
        "\n",
        "base_dir = '/tmp/rockpaperscissors/rps-cv-images'"
      ],
      "execution_count": 48,
      "outputs": []
    },
    {
      "cell_type": "code",
      "metadata": {
        "id": "ObbKR1DErFtz"
      },
      "source": [
        "import tensorflow as tf\n",
        "from tensorflow.keras.utils import to_categorical\n",
        "from tensorflow.keras.models import Sequential\n",
        "from tensorflow.keras.layers import Dense, Flatten, GlobalAveragePooling2D, Conv2D, MaxPooling2D,Activation,Dropout\n",
        "from tensorflow.keras.preprocessing.image import ImageDataGenerator\n",
        "from tensorflow.keras.callbacks import ModelCheckpoint, EarlyStopping"
      ],
      "execution_count": 49,
      "outputs": []
    },
    {
      "cell_type": "code",
      "metadata": {
        "colab": {
          "base_uri": "https://localhost:8080/"
        },
        "id": "UGTe9D4OrjRG",
        "outputId": "658b3889-006a-4e2f-e9e1-1ffeafd3b5d5"
      },
      "source": [
        "train_datagen = ImageDataGenerator( rescale = 1.0/255,\n",
        "                                          rotation_range=40,\n",
        "                                          width_shift_range=0.25,\n",
        "                                          height_shift_range=0.25,\n",
        "                                          shear_range=0.25,\n",
        "                                          zoom_range=0.25,\n",
        "                                          horizontal_flip=True,\n",
        "                                          fill_mode='nearest',\n",
        "                                           validation_split=0.4\n",
        "                                  )\n",
        "\n",
        "\n",
        "train_generator = train_datagen.flow_from_directory(base_dir,\n",
        "                                                    batch_size=32,\n",
        "                                                    class_mode='categorical',\n",
        "                                                    target_size=(80, 60),\n",
        "                                                   subset='training')\n",
        "\n",
        "validation_datagen = ImageDataGenerator(rescale = 1.0/255,\n",
        "                                        validation_split=0.4)\n",
        "\n",
        "\n",
        "validation_generator = validation_datagen.flow_from_directory(base_dir,\n",
        "                                                    batch_size=32,\n",
        "                                                    class_mode='categorical',\n",
        "                                                    target_size=(80, 60),\n",
        "                                                    subset='validation')"
      ],
      "execution_count": 50,
      "outputs": [
        {
          "output_type": "stream",
          "text": [
            "Found 1314 images belonging to 3 classes.\n",
            "Found 874 images belonging to 3 classes.\n"
          ],
          "name": "stdout"
        }
      ]
    },
    {
      "cell_type": "code",
      "metadata": {
        "colab": {
          "base_uri": "https://localhost:8080/"
        },
        "id": "CTFYrZfvtw-H",
        "outputId": "41120a82-2ba3-44b1-8bfa-9fe1de84d4c1"
      },
      "source": [
        "model = Sequential()\n",
        "model.add(Conv2D(32, (3,3), input_shape=(80, 60, 3), activation='relu'))\n",
        "model.add(MaxPooling2D(2, 2))\n",
        "model.add(Conv2D(32, (3, 3), activation='relu'))\n",
        "model.add(MaxPooling2D(2, 2))\n",
        "model.add(Flatten())\n",
        "model.add(Dense(units=256, activation='relu'))\n",
        "model.add(Dense(units=128, activation='relu'))\n",
        "model.add(Dense(units=3, activation='softmax'))\n",
        "\n",
        "model.summary()\n",
        "\n",
        "model.compile(loss = 'categorical_crossentropy', optimizer='adam', metrics=['accuracy'])"
      ],
      "execution_count": 51,
      "outputs": [
        {
          "output_type": "stream",
          "text": [
            "Model: \"sequential_3\"\n",
            "_________________________________________________________________\n",
            "Layer (type)                 Output Shape              Param #   \n",
            "=================================================================\n",
            "conv2d_6 (Conv2D)            (None, 78, 58, 32)        896       \n",
            "_________________________________________________________________\n",
            "max_pooling2d_6 (MaxPooling2 (None, 39, 29, 32)        0         \n",
            "_________________________________________________________________\n",
            "conv2d_7 (Conv2D)            (None, 37, 27, 32)        9248      \n",
            "_________________________________________________________________\n",
            "max_pooling2d_7 (MaxPooling2 (None, 18, 13, 32)        0         \n",
            "_________________________________________________________________\n",
            "flatten_3 (Flatten)          (None, 7488)              0         \n",
            "_________________________________________________________________\n",
            "dense_10 (Dense)             (None, 256)               1917184   \n",
            "_________________________________________________________________\n",
            "dense_11 (Dense)             (None, 128)               32896     \n",
            "_________________________________________________________________\n",
            "dense_12 (Dense)             (None, 3)                 387       \n",
            "=================================================================\n",
            "Total params: 1,960,611\n",
            "Trainable params: 1,960,611\n",
            "Non-trainable params: 0\n",
            "_________________________________________________________________\n"
          ],
          "name": "stdout"
        }
      ]
    },
    {
      "cell_type": "code",
      "metadata": {
        "id": "4tvO0F0HwC6x"
      },
      "source": [
        "#from tensorflow.keras.callbacks import ReduceLROnPlateau\n",
        "#learning_rate_reduction = ReduceLROnPlateau(monitor='val_acc',\n",
        "#                                            patience=2,\n",
        "#                                            verbose=1,\n",
        "#                                            factor=0.5,\n",
        "#                                            min_lr=0.000001)"
      ],
      "execution_count": 52,
      "outputs": []
    },
    {
      "cell_type": "code",
      "metadata": {
        "id": "yhC5HDjIcRnw"
      },
      "source": [
        "early_stopping = EarlyStopping(monitor='val_loss',min_delta = 0, patience = 8, verbose = 1, restore_best_weights=True)"
      ],
      "execution_count": 53,
      "outputs": []
    },
    {
      "cell_type": "code",
      "metadata": {
        "id": "6oI80zLbcSjV"
      },
      "source": [
        "filepath= \"final_model.h5\"\n",
        "checkpoint = ModelCheckpoint(filepath, monitor='val_accuracy', verbose=1, save_best_only=True, mode='max', save_weights_only=False)"
      ],
      "execution_count": 54,
      "outputs": []
    },
    {
      "cell_type": "code",
      "metadata": {
        "id": "qaE0oHP5cWhN"
      },
      "source": [
        "callbacks = [\n",
        "        checkpoint,\n",
        "        early_stopping\n",
        "    ]"
      ],
      "execution_count": 55,
      "outputs": []
    },
    {
      "cell_type": "code",
      "metadata": {
        "colab": {
          "base_uri": "https://localhost:8080/"
        },
        "id": "6fQGxgbzt9zE",
        "outputId": "fd6f3ed0-a613-4c22-b6f8-fd711a39d289"
      },
      "source": [
        "his=model.fit(train_generator,validation_data=validation_generator, epochs = 100,\n",
        "                    verbose = 1, callbacks=callbacks)"
      ],
      "execution_count": 56,
      "outputs": [
        {
          "output_type": "stream",
          "text": [
            "Epoch 1/100\n",
            "42/42 [==============================] - 7s 149ms/step - loss: 1.0885 - accuracy: 0.3813 - val_loss: 1.0573 - val_accuracy: 0.4485\n",
            "\n",
            "Epoch 00001: val_accuracy improved from -inf to 0.44851, saving model to final_model.h5\n",
            "Epoch 2/100\n",
            "42/42 [==============================] - 6s 142ms/step - loss: 1.0228 - accuracy: 0.4954 - val_loss: 0.7827 - val_accuracy: 0.8124\n",
            "\n",
            "Epoch 00002: val_accuracy improved from 0.44851 to 0.81236, saving model to final_model.h5\n",
            "Epoch 3/100\n",
            "42/42 [==============================] - 6s 140ms/step - loss: 0.9785 - accuracy: 0.5327 - val_loss: 0.5973 - val_accuracy: 0.8444\n",
            "\n",
            "Epoch 00003: val_accuracy improved from 0.81236 to 0.84439, saving model to final_model.h5\n",
            "Epoch 4/100\n",
            "42/42 [==============================] - 6s 141ms/step - loss: 0.7541 - accuracy: 0.6743 - val_loss: 0.4636 - val_accuracy: 0.7952\n",
            "\n",
            "Epoch 00004: val_accuracy did not improve from 0.84439\n",
            "Epoch 5/100\n",
            "42/42 [==============================] - 6s 139ms/step - loss: 0.7133 - accuracy: 0.6796 - val_loss: 0.3930 - val_accuracy: 0.8352\n",
            "\n",
            "Epoch 00005: val_accuracy did not improve from 0.84439\n",
            "Epoch 6/100\n",
            "42/42 [==============================] - 6s 141ms/step - loss: 0.6472 - accuracy: 0.7275 - val_loss: 0.4341 - val_accuracy: 0.8558\n",
            "\n",
            "Epoch 00006: val_accuracy improved from 0.84439 to 0.85584, saving model to final_model.h5\n",
            "Epoch 7/100\n",
            "42/42 [==============================] - 6s 140ms/step - loss: 0.5596 - accuracy: 0.7580 - val_loss: 0.2604 - val_accuracy: 0.9199\n",
            "\n",
            "Epoch 00007: val_accuracy improved from 0.85584 to 0.91991, saving model to final_model.h5\n",
            "Epoch 8/100\n",
            "42/42 [==============================] - 6s 140ms/step - loss: 0.5368 - accuracy: 0.7740 - val_loss: 0.2621 - val_accuracy: 0.8993\n",
            "\n",
            "Epoch 00008: val_accuracy did not improve from 0.91991\n",
            "Epoch 9/100\n",
            "42/42 [==============================] - 6s 140ms/step - loss: 0.5848 - accuracy: 0.7504 - val_loss: 0.3884 - val_accuracy: 0.8307\n",
            "\n",
            "Epoch 00009: val_accuracy did not improve from 0.91991\n",
            "Epoch 10/100\n",
            "42/42 [==============================] - 6s 141ms/step - loss: 0.5036 - accuracy: 0.7763 - val_loss: 0.2855 - val_accuracy: 0.8867\n",
            "\n",
            "Epoch 00010: val_accuracy did not improve from 0.91991\n",
            "Epoch 11/100\n",
            "42/42 [==============================] - 6s 138ms/step - loss: 0.3726 - accuracy: 0.8562 - val_loss: 0.1072 - val_accuracy: 0.9634\n",
            "\n",
            "Epoch 00011: val_accuracy improved from 0.91991 to 0.96339, saving model to final_model.h5\n",
            "Epoch 12/100\n",
            "42/42 [==============================] - 6s 142ms/step - loss: 0.3635 - accuracy: 0.8638 - val_loss: 0.1100 - val_accuracy: 0.9634\n",
            "\n",
            "Epoch 00012: val_accuracy did not improve from 0.96339\n",
            "Epoch 13/100\n",
            "42/42 [==============================] - 6s 142ms/step - loss: 0.3089 - accuracy: 0.8843 - val_loss: 0.0876 - val_accuracy: 0.9622\n",
            "\n",
            "Epoch 00013: val_accuracy did not improve from 0.96339\n",
            "Epoch 14/100\n",
            "42/42 [==============================] - 6s 141ms/step - loss: 0.2569 - accuracy: 0.9064 - val_loss: 0.0769 - val_accuracy: 0.9794\n",
            "\n",
            "Epoch 00014: val_accuracy improved from 0.96339 to 0.97941, saving model to final_model.h5\n",
            "Epoch 15/100\n",
            "42/42 [==============================] - 6s 140ms/step - loss: 0.2895 - accuracy: 0.9049 - val_loss: 0.5043 - val_accuracy: 0.7803\n",
            "\n",
            "Epoch 00015: val_accuracy did not improve from 0.97941\n",
            "Epoch 16/100\n",
            "42/42 [==============================] - 6s 139ms/step - loss: 0.3149 - accuracy: 0.8858 - val_loss: 0.1315 - val_accuracy: 0.9600\n",
            "\n",
            "Epoch 00016: val_accuracy did not improve from 0.97941\n",
            "Epoch 17/100\n",
            "42/42 [==============================] - 6s 138ms/step - loss: 0.2082 - accuracy: 0.9254 - val_loss: 0.0674 - val_accuracy: 0.9794\n",
            "\n",
            "Epoch 00017: val_accuracy did not improve from 0.97941\n",
            "Epoch 18/100\n",
            "42/42 [==============================] - 6s 140ms/step - loss: 0.2077 - accuracy: 0.9224 - val_loss: 0.0783 - val_accuracy: 0.9783\n",
            "\n",
            "Epoch 00018: val_accuracy did not improve from 0.97941\n",
            "Epoch 19/100\n",
            "42/42 [==============================] - 6s 140ms/step - loss: 0.2178 - accuracy: 0.9201 - val_loss: 0.1022 - val_accuracy: 0.9794\n",
            "\n",
            "Epoch 00019: val_accuracy did not improve from 0.97941\n",
            "Epoch 20/100\n",
            "42/42 [==============================] - 6s 140ms/step - loss: 0.1997 - accuracy: 0.9269 - val_loss: 0.1233 - val_accuracy: 0.9588\n",
            "\n",
            "Epoch 00020: val_accuracy did not improve from 0.97941\n",
            "Epoch 21/100\n",
            "42/42 [==============================] - 6s 139ms/step - loss: 0.2146 - accuracy: 0.9224 - val_loss: 0.0970 - val_accuracy: 0.9725\n",
            "\n",
            "Epoch 00021: val_accuracy did not improve from 0.97941\n",
            "Epoch 22/100\n",
            "42/42 [==============================] - 6s 139ms/step - loss: 0.2260 - accuracy: 0.9117 - val_loss: 0.0762 - val_accuracy: 0.9840\n",
            "\n",
            "Epoch 00022: val_accuracy improved from 0.97941 to 0.98398, saving model to final_model.h5\n",
            "Epoch 23/100\n",
            "42/42 [==============================] - 6s 140ms/step - loss: 0.2193 - accuracy: 0.9209 - val_loss: 0.1151 - val_accuracy: 0.9588\n",
            "\n",
            "Epoch 00023: val_accuracy did not improve from 0.98398\n",
            "Epoch 24/100\n",
            "42/42 [==============================] - 6s 141ms/step - loss: 0.1922 - accuracy: 0.9338 - val_loss: 0.1389 - val_accuracy: 0.9474\n",
            "\n",
            "Epoch 00024: val_accuracy did not improve from 0.98398\n",
            "Epoch 25/100\n",
            "42/42 [==============================] - 6s 141ms/step - loss: 0.2090 - accuracy: 0.9254 - val_loss: 0.0682 - val_accuracy: 0.9828\n",
            "\n",
            "Epoch 00025: val_accuracy did not improve from 0.98398\n",
            "Restoring model weights from the end of the best epoch.\n",
            "Epoch 00025: early stopping\n"
          ],
          "name": "stdout"
        }
      ]
    },
    {
      "cell_type": "code",
      "metadata": {
        "id": "eFtF9Rd3wNiA",
        "colab": {
          "base_uri": "https://localhost:8080/"
        },
        "outputId": "90e138c4-de35-4b2b-ea20-17c4ef425e58"
      },
      "source": [
        "his.history['accuracy']"
      ],
      "execution_count": 57,
      "outputs": [
        {
          "output_type": "execute_result",
          "data": {
            "text/plain": [
              "[0.38127854466438293,\n",
              " 0.4954337775707245,\n",
              " 0.5327244997024536,\n",
              " 0.6742770075798035,\n",
              " 0.6796042323112488,\n",
              " 0.7275494933128357,\n",
              " 0.7579908967018127,\n",
              " 0.7739726305007935,\n",
              " 0.7503805160522461,\n",
              " 0.77625572681427,\n",
              " 0.8561643958091736,\n",
              " 0.8637747168540955,\n",
              " 0.8843227028846741,\n",
              " 0.9063926935195923,\n",
              " 0.9048706293106079,\n",
              " 0.8858447670936584,\n",
              " 0.9254185557365417,\n",
              " 0.922374427318573,\n",
              " 0.9200913310050964,\n",
              " 0.9269406199455261,\n",
              " 0.922374427318573,\n",
              " 0.9117199182510376,\n",
              " 0.9208523631095886,\n",
              " 0.9337899684906006,\n",
              " 0.9254185557365417]"
            ]
          },
          "metadata": {
            "tags": []
          },
          "execution_count": 57
        }
      ]
    },
    {
      "cell_type": "code",
      "metadata": {
        "id": "38Z1RMcwfPmy"
      },
      "source": [
        ""
      ],
      "execution_count": 57,
      "outputs": []
    }
  ]
}