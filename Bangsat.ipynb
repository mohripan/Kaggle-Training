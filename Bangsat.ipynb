{
  "nbformat": 4,
  "nbformat_minor": 0,
  "metadata": {
    "colab": {
      "name": "Bangsat.ipynb",
      "provenance": [],
      "collapsed_sections": [],
      "mount_file_id": "1HT0UGnmxYuJ9qFPmpzvvofBX3yqd7SA_",
      "authorship_tag": "ABX9TyNQHggYsmkzdZLpd23+UN77",
      "include_colab_link": true
    },
    "kernelspec": {
      "name": "python3",
      "display_name": "Python 3"
    },
    "language_info": {
      "name": "python"
    },
    "accelerator": "GPU"
  },
  "cells": [
    {
      "cell_type": "markdown",
      "metadata": {
        "id": "view-in-github",
        "colab_type": "text"
      },
      "source": [
        "<a href=\"https://colab.research.google.com/github/mohripan/Kaggle-Training/blob/main/Bangsat.ipynb\" target=\"_parent\"><img src=\"https://colab.research.google.com/assets/colab-badge.svg\" alt=\"Open In Colab\"/></a>"
      ]
    },
    {
      "cell_type": "code",
      "metadata": {
        "id": "gie2Qxa9pMXV"
      },
      "source": [
        "import numpy as np\n",
        "import pandas as pd\n",
        "import matplotlib.pyplot as plt"
      ],
      "execution_count": 1,
      "outputs": []
    },
    {
      "cell_type": "code",
      "metadata": {
        "colab": {
          "base_uri": "https://localhost:8080/"
        },
        "id": "QGnxrpz5pzfr",
        "outputId": "ad34b590-23dc-4498-8c28-bd8446ab14bd"
      },
      "source": [
        "!wget --no-check-certificate \\\n",
        "  https://dicodingacademy.blob.core.windows.net/picodiploma/ml_pemula_academy/rockpaperscissors.zip \\\n",
        "  -O /tmp/rockpaperscissors.zip"
      ],
      "execution_count": 2,
      "outputs": [
        {
          "output_type": "stream",
          "text": [
            "--2021-07-03 11:35:26--  https://dicodingacademy.blob.core.windows.net/picodiploma/ml_pemula_academy/rockpaperscissors.zip\n",
            "Resolving dicodingacademy.blob.core.windows.net (dicodingacademy.blob.core.windows.net)... 52.239.197.36\n",
            "Connecting to dicodingacademy.blob.core.windows.net (dicodingacademy.blob.core.windows.net)|52.239.197.36|:443... connected.\n",
            "HTTP request sent, awaiting response... 200 OK\n",
            "Length: 322873683 (308M) [application/zip]\n",
            "Saving to: ‘/tmp/rockpaperscissors.zip’\n",
            "\n",
            "/tmp/rockpapersciss 100%[===================>] 307.92M  5.25MB/s    in 49s     \n",
            "\n",
            "2021-07-03 11:36:16 (6.34 MB/s) - ‘/tmp/rockpaperscissors.zip’ saved [322873683/322873683]\n",
            "\n"
          ],
          "name": "stdout"
        }
      ]
    },
    {
      "cell_type": "code",
      "metadata": {
        "id": "4cyLG-atp4g4"
      },
      "source": [
        "import zipfile, os"
      ],
      "execution_count": 3,
      "outputs": []
    },
    {
      "cell_type": "code",
      "metadata": {
        "id": "nsR0xaVzqBw3"
      },
      "source": [
        "loc_zip = '/tmp/rockpaperscissors.zip'\n",
        "zip_ref = zipfile.ZipFile(loc_zip, 'r')\n",
        "zip_ref.extractall('/tmp')\n",
        "zip_ref.close()\n",
        "\n",
        "base_dir = '/tmp/rockpaperscissors/rps-cv-images'"
      ],
      "execution_count": 4,
      "outputs": []
    },
    {
      "cell_type": "code",
      "metadata": {
        "id": "ObbKR1DErFtz"
      },
      "source": [
        "import tensorflow as tf\n",
        "from tensorflow.keras.utils import to_categorical\n",
        "from tensorflow.keras.models import Sequential\n",
        "from tensorflow.keras.layers import Dense, Flatten, GlobalAveragePooling2D, Conv2D, MaxPooling2D,Activation,Dropout\n",
        "from tensorflow.keras.preprocessing.image import ImageDataGenerator\n",
        "from tensorflow.keras.callbacks import ModelCheckpoint, EarlyStopping"
      ],
      "execution_count": 5,
      "outputs": []
    },
    {
      "cell_type": "code",
      "metadata": {
        "colab": {
          "base_uri": "https://localhost:8080/"
        },
        "id": "UGTe9D4OrjRG",
        "outputId": "1bdcce8f-e077-4fae-9e65-31e88e6e979b"
      },
      "source": [
        "train_datagen = ImageDataGenerator( rescale = 1.0/255,\n",
        "                                          rotation_range=20,\n",
        "                                          width_shift_range=0.2,\n",
        "                                          height_shift_range=0.2,\n",
        "                                          shear_range=0.2,\n",
        "                                          zoom_range=0.2,\n",
        "                                          horizontal_flip=True,\n",
        "                                          fill_mode='nearest',\n",
        "                                           validation_split=0.4\n",
        "                                  )\n",
        "\n",
        "\n",
        "train_generator = train_datagen.flow_from_directory(base_dir,\n",
        "                                                    batch_size=32,\n",
        "                                                    class_mode='categorical',\n",
        "                                                    target_size=(80, 60),\n",
        "                                                   subset='training')\n",
        "\n",
        "validation_datagen = ImageDataGenerator(rescale = 1.0/255,\n",
        "                                        validation_split=0.4)\n",
        "\n",
        "\n",
        "validation_generator = validation_datagen.flow_from_directory(base_dir,\n",
        "                                                    batch_size=32,\n",
        "                                                    class_mode='categorical',\n",
        "                                                    target_size=(80, 60),\n",
        "                                                    subset='validation')"
      ],
      "execution_count": 6,
      "outputs": [
        {
          "output_type": "stream",
          "text": [
            "Found 1314 images belonging to 3 classes.\n",
            "Found 874 images belonging to 3 classes.\n"
          ],
          "name": "stdout"
        }
      ]
    },
    {
      "cell_type": "code",
      "metadata": {
        "colab": {
          "base_uri": "https://localhost:8080/"
        },
        "id": "CTFYrZfvtw-H",
        "outputId": "e9b88a2f-23b9-487f-e642-e04186eecf35"
      },
      "source": [
        "model = Sequential()\n",
        "model.add(Conv2D(32, (3,3), input_shape=(80, 60, 3), activation='relu'))\n",
        "model.add(MaxPooling2D(2, 2))\n",
        "model.add(Conv2D(32, (3, 3), activation='relu'))\n",
        "model.add(MaxPooling2D(2, 2))\n",
        "model.add(Flatten())\n",
        "model.add(Dense(units=512, activation='relu'))\n",
        "model.add(Dense(units=256, activation='relu'))\n",
        "model.add(Dense(units=3, activation='softmax'))\n",
        "\n",
        "model.summary()\n",
        "\n",
        "model.compile(loss = 'categorical_crossentropy', optimizer='adam', metrics=['accuracy'])"
      ],
      "execution_count": 7,
      "outputs": [
        {
          "output_type": "stream",
          "text": [
            "Model: \"sequential\"\n",
            "_________________________________________________________________\n",
            "Layer (type)                 Output Shape              Param #   \n",
            "=================================================================\n",
            "conv2d (Conv2D)              (None, 78, 58, 32)        896       \n",
            "_________________________________________________________________\n",
            "max_pooling2d (MaxPooling2D) (None, 39, 29, 32)        0         \n",
            "_________________________________________________________________\n",
            "conv2d_1 (Conv2D)            (None, 37, 27, 32)        9248      \n",
            "_________________________________________________________________\n",
            "max_pooling2d_1 (MaxPooling2 (None, 18, 13, 32)        0         \n",
            "_________________________________________________________________\n",
            "flatten (Flatten)            (None, 7488)              0         \n",
            "_________________________________________________________________\n",
            "dense (Dense)                (None, 512)               3834368   \n",
            "_________________________________________________________________\n",
            "dense_1 (Dense)              (None, 256)               131328    \n",
            "_________________________________________________________________\n",
            "dense_2 (Dense)              (None, 3)                 771       \n",
            "=================================================================\n",
            "Total params: 3,976,611\n",
            "Trainable params: 3,976,611\n",
            "Non-trainable params: 0\n",
            "_________________________________________________________________\n"
          ],
          "name": "stdout"
        }
      ]
    },
    {
      "cell_type": "code",
      "metadata": {
        "id": "4tvO0F0HwC6x"
      },
      "source": [
        "from tensorflow.keras.callbacks import ReduceLROnPlateau\n",
        "learning_rate_reduction = ReduceLROnPlateau(monitor='val_acc',\n",
        "                                            patience=2,\n",
        "                                            verbose=1,\n",
        "                                            factor=0.5,\n",
        "                                            min_lr=0.000001)"
      ],
      "execution_count": 8,
      "outputs": []
    },
    {
      "cell_type": "code",
      "metadata": {
        "colab": {
          "base_uri": "https://localhost:8080/"
        },
        "id": "6fQGxgbzt9zE",
        "outputId": "8ad11df5-4ecd-4510-8c60-701cedfa1afb"
      },
      "source": [
        "his=model.fit(train_generator,validation_data=validation_generator, epochs = 30,\n",
        "                    verbose = 1, callbacks=[learning_rate_reduction])"
      ],
      "execution_count": 9,
      "outputs": [
        {
          "output_type": "stream",
          "text": [
            "Epoch 1/30\n",
            "42/42 [==============================] - 9s 154ms/step - loss: 1.0703 - accuracy: 0.4132 - val_loss: 0.8914 - val_accuracy: 0.7346\n",
            "WARNING:tensorflow:Learning rate reduction is conditioned on metric `val_acc` which is not available. Available metrics are: loss,accuracy,val_loss,val_accuracy,lr\n",
            "Epoch 2/30\n",
            "42/42 [==============================] - 6s 146ms/step - loss: 0.9005 - accuracy: 0.5875 - val_loss: 0.6278 - val_accuracy: 0.7780\n",
            "WARNING:tensorflow:Learning rate reduction is conditioned on metric `val_acc` which is not available. Available metrics are: loss,accuracy,val_loss,val_accuracy,lr\n",
            "Epoch 3/30\n",
            "42/42 [==============================] - 6s 148ms/step - loss: 0.7683 - accuracy: 0.6773 - val_loss: 0.3915 - val_accuracy: 0.9233\n",
            "WARNING:tensorflow:Learning rate reduction is conditioned on metric `val_acc` which is not available. Available metrics are: loss,accuracy,val_loss,val_accuracy,lr\n",
            "Epoch 4/30\n",
            "42/42 [==============================] - 6s 146ms/step - loss: 0.4458 - accuracy: 0.8318 - val_loss: 0.1549 - val_accuracy: 0.9645\n",
            "WARNING:tensorflow:Learning rate reduction is conditioned on metric `val_acc` which is not available. Available metrics are: loss,accuracy,val_loss,val_accuracy,lr\n",
            "Epoch 5/30\n",
            "42/42 [==============================] - 6s 145ms/step - loss: 0.3406 - accuracy: 0.8798 - val_loss: 0.1153 - val_accuracy: 0.9634\n",
            "WARNING:tensorflow:Learning rate reduction is conditioned on metric `val_acc` which is not available. Available metrics are: loss,accuracy,val_loss,val_accuracy,lr\n",
            "Epoch 6/30\n",
            "42/42 [==============================] - 6s 145ms/step - loss: 0.2930 - accuracy: 0.8957 - val_loss: 0.1048 - val_accuracy: 0.9737\n",
            "WARNING:tensorflow:Learning rate reduction is conditioned on metric `val_acc` which is not available. Available metrics are: loss,accuracy,val_loss,val_accuracy,lr\n",
            "Epoch 7/30\n",
            "42/42 [==============================] - 6s 144ms/step - loss: 0.2122 - accuracy: 0.9262 - val_loss: 0.0950 - val_accuracy: 0.9737\n",
            "WARNING:tensorflow:Learning rate reduction is conditioned on metric `val_acc` which is not available. Available metrics are: loss,accuracy,val_loss,val_accuracy,lr\n",
            "Epoch 8/30\n",
            "42/42 [==============================] - 6s 144ms/step - loss: 0.2320 - accuracy: 0.9125 - val_loss: 0.1093 - val_accuracy: 0.9703\n",
            "WARNING:tensorflow:Learning rate reduction is conditioned on metric `val_acc` which is not available. Available metrics are: loss,accuracy,val_loss,val_accuracy,lr\n",
            "Epoch 9/30\n",
            "42/42 [==============================] - 6s 148ms/step - loss: 0.1744 - accuracy: 0.9437 - val_loss: 0.0830 - val_accuracy: 0.9725\n",
            "WARNING:tensorflow:Learning rate reduction is conditioned on metric `val_acc` which is not available. Available metrics are: loss,accuracy,val_loss,val_accuracy,lr\n",
            "Epoch 10/30\n",
            "42/42 [==============================] - 6s 144ms/step - loss: 0.2196 - accuracy: 0.9209 - val_loss: 0.0908 - val_accuracy: 0.9657\n",
            "WARNING:tensorflow:Learning rate reduction is conditioned on metric `val_acc` which is not available. Available metrics are: loss,accuracy,val_loss,val_accuracy,lr\n",
            "Epoch 11/30\n",
            "42/42 [==============================] - 6s 145ms/step - loss: 0.1910 - accuracy: 0.9330 - val_loss: 0.0594 - val_accuracy: 0.9851\n",
            "WARNING:tensorflow:Learning rate reduction is conditioned on metric `val_acc` which is not available. Available metrics are: loss,accuracy,val_loss,val_accuracy,lr\n",
            "Epoch 12/30\n",
            "42/42 [==============================] - 6s 146ms/step - loss: 0.1500 - accuracy: 0.9490 - val_loss: 0.0490 - val_accuracy: 0.9863\n",
            "WARNING:tensorflow:Learning rate reduction is conditioned on metric `val_acc` which is not available. Available metrics are: loss,accuracy,val_loss,val_accuracy,lr\n",
            "Epoch 13/30\n",
            "42/42 [==============================] - 6s 144ms/step - loss: 0.1548 - accuracy: 0.9460 - val_loss: 0.0393 - val_accuracy: 0.9851\n",
            "WARNING:tensorflow:Learning rate reduction is conditioned on metric `val_acc` which is not available. Available metrics are: loss,accuracy,val_loss,val_accuracy,lr\n",
            "Epoch 14/30\n",
            "42/42 [==============================] - 6s 144ms/step - loss: 0.1288 - accuracy: 0.9528 - val_loss: 0.0530 - val_accuracy: 0.9851\n",
            "WARNING:tensorflow:Learning rate reduction is conditioned on metric `val_acc` which is not available. Available metrics are: loss,accuracy,val_loss,val_accuracy,lr\n",
            "Epoch 15/30\n",
            "42/42 [==============================] - 6s 146ms/step - loss: 0.1005 - accuracy: 0.9688 - val_loss: 0.0744 - val_accuracy: 0.9760\n",
            "WARNING:tensorflow:Learning rate reduction is conditioned on metric `val_acc` which is not available. Available metrics are: loss,accuracy,val_loss,val_accuracy,lr\n",
            "Epoch 16/30\n",
            "42/42 [==============================] - 6s 149ms/step - loss: 0.1347 - accuracy: 0.9490 - val_loss: 0.0472 - val_accuracy: 0.9828\n",
            "WARNING:tensorflow:Learning rate reduction is conditioned on metric `val_acc` which is not available. Available metrics are: loss,accuracy,val_loss,val_accuracy,lr\n",
            "Epoch 17/30\n",
            "42/42 [==============================] - 6s 143ms/step - loss: 0.0995 - accuracy: 0.9703 - val_loss: 0.0335 - val_accuracy: 0.9931\n",
            "WARNING:tensorflow:Learning rate reduction is conditioned on metric `val_acc` which is not available. Available metrics are: loss,accuracy,val_loss,val_accuracy,lr\n",
            "Epoch 18/30\n",
            "42/42 [==============================] - 6s 144ms/step - loss: 0.0921 - accuracy: 0.9696 - val_loss: 0.0502 - val_accuracy: 0.9828\n",
            "WARNING:tensorflow:Learning rate reduction is conditioned on metric `val_acc` which is not available. Available metrics are: loss,accuracy,val_loss,val_accuracy,lr\n",
            "Epoch 19/30\n",
            "42/42 [==============================] - 6s 145ms/step - loss: 0.0868 - accuracy: 0.9696 - val_loss: 0.0309 - val_accuracy: 0.9886\n",
            "WARNING:tensorflow:Learning rate reduction is conditioned on metric `val_acc` which is not available. Available metrics are: loss,accuracy,val_loss,val_accuracy,lr\n",
            "Epoch 20/30\n",
            "42/42 [==============================] - 6s 147ms/step - loss: 0.0682 - accuracy: 0.9756 - val_loss: 0.0350 - val_accuracy: 0.9886\n",
            "WARNING:tensorflow:Learning rate reduction is conditioned on metric `val_acc` which is not available. Available metrics are: loss,accuracy,val_loss,val_accuracy,lr\n",
            "Epoch 21/30\n",
            "42/42 [==============================] - 6s 146ms/step - loss: 0.0881 - accuracy: 0.9642 - val_loss: 0.0316 - val_accuracy: 0.9897\n",
            "WARNING:tensorflow:Learning rate reduction is conditioned on metric `val_acc` which is not available. Available metrics are: loss,accuracy,val_loss,val_accuracy,lr\n",
            "Epoch 22/30\n",
            "42/42 [==============================] - 6s 144ms/step - loss: 0.0890 - accuracy: 0.9673 - val_loss: 0.0410 - val_accuracy: 0.9874\n",
            "WARNING:tensorflow:Learning rate reduction is conditioned on metric `val_acc` which is not available. Available metrics are: loss,accuracy,val_loss,val_accuracy,lr\n",
            "Epoch 23/30\n",
            "42/42 [==============================] - 6s 142ms/step - loss: 0.0814 - accuracy: 0.9741 - val_loss: 0.0341 - val_accuracy: 0.9897\n",
            "WARNING:tensorflow:Learning rate reduction is conditioned on metric `val_acc` which is not available. Available metrics are: loss,accuracy,val_loss,val_accuracy,lr\n",
            "Epoch 24/30\n",
            "42/42 [==============================] - 6s 143ms/step - loss: 0.0788 - accuracy: 0.9756 - val_loss: 0.0231 - val_accuracy: 0.9897\n",
            "WARNING:tensorflow:Learning rate reduction is conditioned on metric `val_acc` which is not available. Available metrics are: loss,accuracy,val_loss,val_accuracy,lr\n",
            "Epoch 25/30\n",
            "42/42 [==============================] - 6s 145ms/step - loss: 0.0896 - accuracy: 0.9696 - val_loss: 0.0181 - val_accuracy: 0.9920\n",
            "WARNING:tensorflow:Learning rate reduction is conditioned on metric `val_acc` which is not available. Available metrics are: loss,accuracy,val_loss,val_accuracy,lr\n",
            "Epoch 26/30\n",
            "42/42 [==============================] - 6s 146ms/step - loss: 0.0808 - accuracy: 0.9749 - val_loss: 0.0227 - val_accuracy: 0.9966\n",
            "WARNING:tensorflow:Learning rate reduction is conditioned on metric `val_acc` which is not available. Available metrics are: loss,accuracy,val_loss,val_accuracy,lr\n",
            "Epoch 27/30\n",
            "42/42 [==============================] - 6s 141ms/step - loss: 0.0871 - accuracy: 0.9726 - val_loss: 0.1017 - val_accuracy: 0.9668\n",
            "WARNING:tensorflow:Learning rate reduction is conditioned on metric `val_acc` which is not available. Available metrics are: loss,accuracy,val_loss,val_accuracy,lr\n",
            "Epoch 28/30\n",
            "42/42 [==============================] - 6s 141ms/step - loss: 0.0724 - accuracy: 0.9749 - val_loss: 0.0663 - val_accuracy: 0.9840\n",
            "WARNING:tensorflow:Learning rate reduction is conditioned on metric `val_acc` which is not available. Available metrics are: loss,accuracy,val_loss,val_accuracy,lr\n",
            "Epoch 29/30\n",
            "42/42 [==============================] - 6s 141ms/step - loss: 0.0769 - accuracy: 0.9703 - val_loss: 0.0712 - val_accuracy: 0.9794\n",
            "WARNING:tensorflow:Learning rate reduction is conditioned on metric `val_acc` which is not available. Available metrics are: loss,accuracy,val_loss,val_accuracy,lr\n",
            "Epoch 30/30\n",
            "42/42 [==============================] - 6s 141ms/step - loss: 0.0720 - accuracy: 0.9764 - val_loss: 0.0131 - val_accuracy: 0.9931\n",
            "WARNING:tensorflow:Learning rate reduction is conditioned on metric `val_acc` which is not available. Available metrics are: loss,accuracy,val_loss,val_accuracy,lr\n"
          ],
          "name": "stdout"
        }
      ]
    },
    {
      "cell_type": "code",
      "metadata": {
        "id": "eFtF9Rd3wNiA"
      },
      "source": [
        ""
      ],
      "execution_count": 9,
      "outputs": []
    }
  ]
}